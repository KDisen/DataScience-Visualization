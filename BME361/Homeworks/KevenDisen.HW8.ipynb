{
 "cells": [
  {
   "cell_type": "code",
   "execution_count": null,
   "metadata": {},
   "outputs": [],
   "source": [
    "#Keven Disen\n",
    "#111433335\n",
    "#BME 361\n",
    "#Machine Learning Homework 8\n",
    "\n"
   ]
  },
  {
   "cell_type": "code",
   "execution_count": 1,
   "metadata": {},
   "outputs": [
    {
     "name": "stderr",
     "output_type": "stream",
     "text": [
      "Using TensorFlow backend.\n"
     ]
    }
   ],
   "source": [
    "import tensorflow.keras  # test if they are installed\n",
    "from tensorflow.keras.datasets import mnist\n",
    "from keras.utils import to_categorical\n",
    "import matplotlib.pyplot as plt\n",
    "import seaborn as sns\n",
    "import numpy as np\n",
    "get_ipython().run_line_magic('matplotlib', 'inline')\n",
    "from tensorflow.keras.models import Sequential\n",
    "from tensorflow.keras.layers import Conv2D, Dense, Flatten, MaxPooling2D\n",
    "\n",
    "\n"
   ]
  },
  {
   "cell_type": "code",
   "execution_count": 2,
   "metadata": {},
   "outputs": [],
   "source": [
    "(X_train, y_train), (X_test, y_test) = mnist.load_data()\n",
    "# each dataset or image is a 28 by 28 pixel array"
   ]
  },
  {
   "cell_type": "code",
   "execution_count": 3,
   "metadata": {},
   "outputs": [],
   "source": [
    "# it is easy to normalize the data. A greyscale is from 0 to 255, so we divide the data by 255\n",
    "X_train_norm = X_train / 255\n",
    "X_test_norm = X_test / 255"
   ]
  },
  {
   "cell_type": "code",
   "execution_count": 4,
   "metadata": {},
   "outputs": [],
   "source": [
    "X_train_lin = X_train_norm.reshape(60000, 784)\n",
    "X_test_lin = X_test_norm.reshape(10000, 784)"
   ]
  },
  {
   "cell_type": "markdown",
   "metadata": {},
   "source": [
    "## 1) Sample Size of 1000 pairs of X_train and y_train data, and 500 pairs for X_test, y_test "
   ]
  },
  {
   "cell_type": "code",
   "execution_count": 5,
   "metadata": {},
   "outputs": [],
   "source": [
    "\n",
    "X_test_2 = X_test[:500].reshape((500, 28, 28, 1))\n",
    "X_train_2 = X_train[:1000].reshape((1000, 28, 28, 1))\n",
    "\n",
    "X_train_norm2 = X_train_2 / 255\n",
    "X_test_norm2 = X_test_2 / 255\n",
    "\n",
    "\n",
    "y_train_2 = y_train[:1000].reshape((1000,1))\n",
    "y_test_2 = y_test[:500].reshape((500,1))\n",
    "\n",
    "\n"
   ]
  },
  {
   "cell_type": "code",
   "execution_count": 6,
   "metadata": {},
   "outputs": [],
   "source": [
    "y_train_catg= to_categorical(y_train_2)\n",
    "y_test_catg = to_categorical(y_test_2)"
   ]
  },
  {
   "cell_type": "code",
   "execution_count": 7,
   "metadata": {},
   "outputs": [],
   "source": [
    "cnn = Sequential()\n",
    "cnn.add(Conv2D(filters=64, kernel_size=(3,3), activation='relu',\n",
    "              input_shape=(28, 28, 1)))\n",
    "cnn.add(MaxPooling2D(pool_size=(2,2)))\n",
    "cnn.add(Flatten())\n",
    "cnn.add(Dense(units=128, activation='relu'))\n",
    "cnn.add(Dense(units=10, activation='softmax'))\n",
    "\n",
    "cnn.compile(optimizer='adam',\n",
    "            loss='categorical_crossentropy',\n",
    "            metrics=['accuracy'])\n"
   ]
  },
  {
   "cell_type": "code",
   "execution_count": 13,
   "metadata": {
    "scrolled": true
   },
   "outputs": [
    {
     "name": "stdout",
     "output_type": "stream",
     "text": [
      "Train on 4500 samples, validate on 500 samples\n",
      "Epoch 1/5\n",
      "4500/4500 [==============================] - 13s 3ms/sample - loss: 0.0077 - accuracy: 0.9982 - val_loss: 0.1419 - val_accuracy: 0.9660\n",
      "Epoch 2/5\n",
      "4500/4500 [==============================] - 11s 3ms/sample - loss: 0.0018 - accuracy: 1.0000 - val_loss: 0.1290 - val_accuracy: 0.9680\n",
      "Epoch 3/5\n",
      "4500/4500 [==============================] - 11s 2ms/sample - loss: 8.0531e-04 - accuracy: 1.0000 - val_loss: 0.1364 - val_accuracy: 0.9740\n",
      "Epoch 4/5\n",
      "4500/4500 [==============================] - 11s 3ms/sample - loss: 3.6758e-04 - accuracy: 1.0000 - val_loss: 0.1532 - val_accuracy: 0.9720\n",
      "Epoch 5/5\n",
      "4500/4500 [==============================] - 11s 2ms/sample - loss: 2.5914e-04 - accuracy: 1.0000 - val_loss: 0.1484 - val_accuracy: 0.9760\n"
     ]
    },
    {
     "data": {
      "text/plain": [
       "<tensorflow.python.keras.callbacks.History at 0x1a79aa4f90>"
      ]
     },
     "execution_count": 13,
     "metadata": {},
     "output_type": "execute_result"
    }
   ],
   "source": [
    "cnn.fit(X_train_norm2, y_train_catg, epochs=5, batch_size=10, validation_split=0.1)  # use 10% data for validation of the model\n",
    "\n"
   ]
  },
  {
   "cell_type": "markdown",
   "metadata": {},
   "source": [
    "## 2) Sample Size of 5000 pairs of X_train and y_train data, and 1000 pairs for X_test, y_test"
   ]
  },
  {
   "cell_type": "code",
   "execution_count": 9,
   "metadata": {},
   "outputs": [],
   "source": [
    "X_test_2 = X_test[:1000].reshape((1000, 28, 28, 1))\n",
    "X_train_2 = X_train[:5000].reshape((5000, 28, 28, 1))\n",
    "\n",
    "X_train_norm2 = X_train_2 / 255\n",
    "X_test_norm2 = X_test_2 / 255\n",
    "\n",
    "\n",
    "y_train_2 = y_train[:5000].reshape((5000,1))\n",
    "y_test_2 = y_test[:1000].reshape((1000,1))"
   ]
  },
  {
   "cell_type": "code",
   "execution_count": 10,
   "metadata": {},
   "outputs": [],
   "source": [
    "y_train_catg= to_categorical(y_train_2)\n",
    "y_test_catg = to_categorical(y_test_2)"
   ]
  },
  {
   "cell_type": "code",
   "execution_count": 11,
   "metadata": {},
   "outputs": [],
   "source": [
    "cnn = Sequential()\n",
    "cnn.add(Conv2D(filters=64, kernel_size=(3,3), activation='relu',\n",
    "              input_shape=(28, 28, 1)))\n",
    "cnn.add(MaxPooling2D(pool_size=(2,2)))\n",
    "cnn.add(Flatten())\n",
    "cnn.add(Dense(units=128, activation='relu'))\n",
    "cnn.add(Dense(units=10, activation='softmax'))\n",
    "\n",
    "cnn.compile(optimizer='adam',\n",
    "            loss='categorical_crossentropy',\n",
    "            metrics=['accuracy'])"
   ]
  },
  {
   "cell_type": "code",
   "execution_count": 12,
   "metadata": {},
   "outputs": [
    {
     "name": "stdout",
     "output_type": "stream",
     "text": [
      "Train on 4500 samples, validate on 500 samples\n",
      "Epoch 1/5\n",
      "4500/4500 [==============================] - 14s 3ms/sample - loss: 0.4114 - accuracy: 0.8744 - val_loss: 0.2443 - val_accuracy: 0.9260\n",
      "Epoch 2/5\n",
      "4500/4500 [==============================] - 12s 3ms/sample - loss: 0.1240 - accuracy: 0.9611 - val_loss: 0.1741 - val_accuracy: 0.9500\n",
      "Epoch 3/5\n",
      "4500/4500 [==============================] - 11s 3ms/sample - loss: 0.0695 - accuracy: 0.9787 - val_loss: 0.1075 - val_accuracy: 0.9660\n",
      "Epoch 4/5\n",
      "4500/4500 [==============================] - 11s 3ms/sample - loss: 0.0294 - accuracy: 0.9916 - val_loss: 0.1120 - val_accuracy: 0.9620\n",
      "Epoch 5/5\n",
      "4500/4500 [==============================] - 11s 2ms/sample - loss: 0.0149 - accuracy: 0.9960 - val_loss: 0.1134 - val_accuracy: 0.9640\n"
     ]
    },
    {
     "data": {
      "text/plain": [
       "<tensorflow.python.keras.callbacks.History at 0x1a70f59250>"
      ]
     },
     "execution_count": 12,
     "metadata": {},
     "output_type": "execute_result"
    }
   ],
   "source": [
    "cnn.fit(X_train_norm2, y_train_catg, epochs=5, batch_size=10, validation_split=0.1)  # use 10% data for validation of the model\n",
    "\n",
    "\n"
   ]
  },
  {
   "cell_type": "code",
   "execution_count": null,
   "metadata": {},
   "outputs": [],
   "source": []
  }
 ],
 "metadata": {
  "kernelspec": {
   "display_name": "Python 3",
   "language": "python",
   "name": "python3"
  },
  "language_info": {
   "codemirror_mode": {
    "name": "ipython",
    "version": 3
   },
   "file_extension": ".py",
   "mimetype": "text/x-python",
   "name": "python",
   "nbconvert_exporter": "python",
   "pygments_lexer": "ipython3",
   "version": "3.7.7"
  }
 },
 "nbformat": 4,
 "nbformat_minor": 4
}
